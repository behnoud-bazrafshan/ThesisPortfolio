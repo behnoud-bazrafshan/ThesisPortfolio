{
    "cells": [
        {
            "cell_type": "code",
            "execution_count": 2,
            "metadata": {},
            "outputs": [],
            "source": [
                "import pandas as pd\n",
                "import numpy as np\n",
                "import jdatetime\n",
                "\n",
                "pd.options.mode.chained_assignment = None"
            ]
        },
        {
            "cell_type": "markdown",
            "metadata": {},
            "source": [
                "## Calculate daily and monthly returns and market caps for SMB and HML Calculation"
            ]
        },
        {
            "cell_type": "code",
            "execution_count": null,
            "metadata": {},
            "outputs": [],
            "source": [
                "# Extract book value\n",
                "final_list = []\n",
                "for file_number in range(1, 76):\n",
                "    print(file_number)\n",
                "    path = f'E:/Thesis/New Sampling/Factor Model'\\\n",
                "        f'/Balance Sheet/{file_number}.xlsx'\n",
                "    df = pd.read_excel(path, skiprows=7, usecols=[1, 5, 6, 7, 8, 9])\n",
                "    condition = (df['دوره مالی'] == 'جمع حقوق صاحبان سهام')\n",
                "    be = df.loc[condition].values[0].tolist()[1:]\n",
                "    be = [i * 1000000 for i in be]\n",
                "    final_list.append(be)\n",
                "pd.DataFrame(final_list).to_excel('BE.xlsx')"
            ]
        },
        {
            "cell_type": "code",
            "execution_count": null,
            "metadata": {},
            "outputs": [],
            "source": [
                "# Extract market value\n",
                "final_list = []\n",
                "for file_number in range(1, 76):\n",
                "    print(file_number)\n",
                "    ticker_list = []\n",
                "    path = f'E:/Thesis/New Sampling/Daily Data - Bourseview/{file_number}.xlsx'\n",
                "    df = pd.read_excel(\n",
                "        path,\n",
                "        skiprows=7,\n",
                "        usecols=[1, 2, 3, 7, 8, 11, 17],\n",
                "        names=[\n",
                "            'date', 'j_date', 'open', 'adj_close',\n",
                "            'close', 'market_cap', 'P/B'\n",
                "        ],\n",
                "        na_values='-'\n",
                "    )\n",
                "    df.dropna(subset=['open'], inplace=True)\n",
                "    df.drop(columns='open', inplace=True)\n",
                "    years_list = ['1397', '1396', '1395', '1394', '1393']\n",
                "    for year in years_list:\n",
                "        condition = df['j_date'].str.startswith(year)\n",
                "        market_cap = df.loc[condition].max()['market_cap']\n",
                "        ticker_list.append(market_cap)\n",
                "    final_list.append(ticker_list)\n",
                "df_1 = pd.DataFrame(final_list)\n",
                "df_1.to_excel('ME.xlsx')"
            ]
        },
        {
            "cell_type": "code",
            "execution_count": 5,
            "metadata": {},
            "outputs": [],
            "source": [
                "# Read market cap from excel file after a few adjustments\n",
                "me_path = r'C:\\Users\\behnood\\Desktop\\Thesis\\TSETMC\\Factor Model\\ME_final.xlsx'\n",
                "me_df = pd.read_excel(\n",
                "    me_path,\n",
                "    usecols=[*range(7)]\n",
                ")"
            ]
        },
        {
            "cell_type": "code",
            "execution_count": 6,
            "metadata": {},
            "outputs": [],
            "source": [
                "# Read book value to market value ratio from excel file\n",
                "bm_path = r'C:\\Users\\behnood\\Desktop\\Thesis\\TSETMC\\Factor Model\\BM_final.xlsx'\n",
                "bm_df = pd.read_excel(\n",
                "    bm_path,\n",
                "    usecols=[0, 2, 3, 4, 5, 6, 7],\n",
                "    names=['ticker_num', 'ticker', '97', '96', '95', '94', '93']\n",
                ")"
            ]
        },
        {
            "cell_type": "code",
            "execution_count": 7,
            "metadata": {},
            "outputs": [],
            "source": [
                "# Read :Bourseview\" data for market cap\n",
                "# Concat all 75 tickers' data\n",
                "bv_list = []\n",
                "for file_number in range(1, 76):\n",
                "    bv_path = f'E:/Thesis/New Sampling/Daily Data - Bourseview/'\\\n",
                "        f'{file_number}.xlsx'\n",
                "    bv_df = pd.read_excel(\n",
                "        bv_path,\n",
                "        skiprows=7,\n",
                "        usecols=[2, 3, 11],\n",
                "        names=['date', 'open', 'market_cap'],\n",
                "        na_values='-'\n",
                "    )\n",
                "    # Change order from old to new dates\n",
                "    bv_df = bv_df[::-1].reset_index(drop=True)\n",
                "    bv_df['date'] = bv_df['date'].str.replace('-', '')\n",
                "    # Delete non-traded days\n",
                "    bv_df.dropna(subset=['open'], inplace=True)\n",
                "    bv_df.drop(columns='open', inplace=True)\n",
                "    # Create monthly dataframe\n",
                "    bv_df = bv_df.groupby(bv_df['date'].str[:6]).last()\n",
                "    bv_df = bv_df.drop(columns=['date']).reset_index()\n",
                "    bv_df.insert(1, 'ticker_num', file_number)\n",
                "    bv_list.append(bv_df)\n",
                "bv_df = pd.concat(bv_list, ignore_index=True)\n",
                "bv_df = bv_df.loc[(bv_df['date'] >= '139400') & (bv_df['date'] <= '139900')]\n",
                "bv_df.reset_index(drop=True, inplace=True)"
            ]
        },
        {
            "cell_type": "code",
            "execution_count": 8,
            "metadata": {},
            "outputs": [],
            "source": [
                "# Read \"rahavard 365\" data for calculating returns\n",
                "# Concat all 75 tickers' data\n",
                "close_list = []\n",
                "for file_number in range(1, 76):\n",
                "    rahavard_path = f'E:/Thesis/New Sampling/Daily Data - Rahavard 365/'\\\n",
                "        f'{file_number}.txt'\n",
                "    df = pd.read_csv(\n",
                "        rahavard_path,\n",
                "        usecols=[2, 7],\n",
                "        names=['date', 'close'],\n",
                "        header=0,\n",
                "        dtype={'date': str},\n",
                "        parse_dates=[0]\n",
                "    )\n",
                "    # Solve index reading problem, pandas add 2 index to the df\n",
                "    df.reset_index(drop=True, inplace=True)\n",
                "    # Convert to shamsi dates\n",
                "    df['date'] = df['date'].apply(\n",
                "        lambda x: jdatetime.date.fromgregorian(date=x).strftime('%Y%m%d')\n",
                "    )\n",
                "    # Create monthly dataframe\n",
                "    df = df.groupby(df['date'].str[:6]).last()\n",
                "    df = df.drop(columns=['date']).reset_index()\n",
                "    df.insert(1, 'ticker_num', file_number)\n",
                "    df['monthly_return'] = df['close'].pct_change()\n",
                "    close_list.append(df)\n",
                "df = pd.concat(close_list, ignore_index=True)\n",
                "df = df.loc[(df['date'] >= '139400') & (df['date'] <= '139900')]"
            ]
        },
        {
            "cell_type": "code",
            "execution_count": 9,
            "metadata": {},
            "outputs": [],
            "source": [
                "# Merge market cap and price dfs\n",
                "merged_df = pd.merge(df, bv_df, on=['ticker_num', 'date'])"
            ]
        },
        {
            "cell_type": "code",
            "execution_count": 10,
            "metadata": {},
            "outputs": [],
            "source": [
                "# Extract all months from index df\n",
                "index_path = r'E:\\Thesis\\New Sampling\\TEDPIX\\شاخص كل6.xls'\n",
                "index_df = pd.read_excel(\n",
                "    index_path,\n",
                "    usecols=[1],\n",
                "    names=['date'],\n",
                "    dtype={'date': str}\n",
                ")\n",
                "index_df.dropna(inplace=True)\n",
                "all_months = pd.Series(index_df['date'].str[:6].unique().tolist())\n",
                "all_months.name = 'date'"
            ]
        },
        {
            "cell_type": "code",
            "execution_count": 11,
            "metadata": {},
            "outputs": [],
            "source": [
                "# Create a list of years\n",
                "years_list = me_df.columns[2:].tolist()[::-1]"
            ]
        },
        {
            "cell_type": "markdown",
            "metadata": {},
            "source": [
                "## Calculating SMB and HML factors"
            ]
        },
        {
            "cell_type": "code",
            "execution_count": 12,
            "metadata": {},
            "outputs": [],
            "source": [
                "# Calculating SMB and HML\n",
                "smb_list = []\n",
                "hml_list = []\n",
                "for year in years_list:\n",
                "    # Select specific year, and eliminate negative BE tickers for that year\n",
                "    applicable_tickers = bm_df.loc[bm_df[year] >= 0]['ticker_num'].tolist()\n",
                "    negative_be_condition = me_df['ticker_num'].isin(applicable_tickers)\n",
                "    temp_me = me_df.loc[negative_be_condition][['ticker_num', 'ticker', year]]\n",
                "    temp_bm = bm_df.loc[negative_be_condition][['ticker_num', 'ticker', year]]\n",
                "    # Split each year ME into two groups\n",
                "    conditions = [\n",
                "        (temp_me[year] > temp_me[year].median()),\n",
                "        (temp_me[year] <= temp_me[year].median())\n",
                "    ]\n",
                "    temp_bm['size'] = np.select(conditions, ['B', 'S']).tolist()\n",
                "    # Split each ME group into three B/M groups\n",
                "    q = [0, .3, .7, 1]\n",
                "    labels = ['L', 'M', 'H']\n",
                "    x_b = temp_bm.loc[temp_bm['size'] == 'B'][year]\n",
                "    b_bm = pd.qcut(x=x_b, q=q, labels=labels).to_dict()\n",
                "    x_s = temp_bm.loc[temp_bm['size'] == 'S'][year]\n",
                "    s_bm = pd.qcut(x=x_s, q=q, labels=labels).to_dict()\n",
                "    temp_bm['bm'] = pd.Series(b_bm)\n",
                "    temp_bm['bm'].update(pd.Series(s_bm))\n",
                "    # Extrect six portfolio ticker numbers\n",
                "    temp_bm['res'] = temp_bm['size'] + temp_bm['bm']\n",
                "    bh = temp_bm.loc[temp_bm['res'] == 'BH']['ticker_num'].tolist()\n",
                "    bm = temp_bm.loc[temp_bm['res'] == 'BM']['ticker_num'].tolist()\n",
                "    bl = temp_bm.loc[temp_bm['res'] == 'BL']['ticker_num'].tolist()\n",
                "    sh = temp_bm.loc[temp_bm['res'] == 'SH']['ticker_num'].tolist()\n",
                "    sm = temp_bm.loc[temp_bm['res'] == 'SM']['ticker_num'].tolist()\n",
                "    sl = temp_bm.loc[temp_bm['res'] == 'SL']['ticker_num'].tolist()\n",
                "    next_year = str(1 + int(year))\n",
                "    next_year_months = all_months[all_months.str[2:4] == next_year]\n",
                "    for month in next_year_months:\n",
                "        # Set conditions\n",
                "        month_condition = (merged_df['date'] == month)\n",
                "        bh_condition = merged_df['ticker_num'].isin(bh)\n",
                "        bm_condition = merged_df['ticker_num'].isin(bm)\n",
                "        bl_condition = merged_df['ticker_num'].isin(bl)\n",
                "        sh_condition = merged_df['ticker_num'].isin(sh)\n",
                "        sm_condition = merged_df['ticker_num'].isin(sm)\n",
                "        sl_condition = merged_df['ticker_num'].isin(sl)\n",
                "        # Construct portfolios\n",
                "        bh_portfolio = merged_df.loc[month_condition & bh_condition]\n",
                "        bm_portfolio = merged_df.loc[month_condition & bm_condition]\n",
                "        bl_portfolio = merged_df.loc[month_condition & bl_condition]\n",
                "        sh_portfolio = merged_df.loc[month_condition & sh_condition]\n",
                "        sm_portfolio = merged_df.loc[month_condition & sm_condition]\n",
                "        sl_portfolio = merged_df.loc[month_condition & sl_condition]\n",
                "        # Calculate value-weighted returns\n",
                "        bh_return = np.average(\n",
                "            bh_portfolio.monthly_return,\n",
                "            weights=bh_portfolio.market_cap\n",
                "        )\n",
                "        bm_return = np.average(\n",
                "            bm_portfolio.monthly_return,\n",
                "            weights=bm_portfolio.market_cap\n",
                "        )\n",
                "        bl_return = np.average(\n",
                "            bl_portfolio.monthly_return,\n",
                "            weights=bl_portfolio.market_cap\n",
                "        )\n",
                "        sh_return = np.average(\n",
                "            sh_portfolio.monthly_return,\n",
                "            weights=sh_portfolio.market_cap\n",
                "        )\n",
                "        sm_return = np.average(\n",
                "            sm_portfolio.monthly_return,\n",
                "            weights=sm_portfolio.market_cap\n",
                "        )\n",
                "        sl_return = np.average(\n",
                "            sl_portfolio.monthly_return,\n",
                "            weights=sl_portfolio.market_cap\n",
                "        )\n",
                "        # Calculate SMB and HML. Then, add them to lists\n",
                "        smb = (\n",
                "            ((sh_return + sm_return + sl_return) / 3)\n",
                "            - ((bh_return + bm_return + bl_return) / 3)\n",
                "        )\n",
                "        smb_list.append(smb)\n",
                "        hml = (\n",
                "            ((sh_return + bh_return) / 2)\n",
                "            - ((sl_return + bl_return) / 2)\n",
                "        )\n",
                "        hml_list.append(hml)"
            ]
        },
        {
            "cell_type": "code",
            "execution_count": 13,
            "metadata": {},
            "outputs": [],
            "source": [
                "# Write calculated SMB and HML factors to a excel file\n",
                "ff_df = pd.DataFrame([smb_list, hml_list]).transpose()\n",
                "ff_df.to_excel('smb_hml.xlsx', index=False)"
            ]
        }
    ],
    "metadata": {
        "interpreter": {
            "hash": "cb65928c389f17aa552142cf7c412739256798faf8dbcb7a69e391c3cff383e3"
        },
        "kernelspec": {
            "display_name": "Python 3.7.5 64-bit",
            "name": "python3"
        },
        "language_info": {
            "codemirror_mode": {
                "name": "ipython",
                "version": 3
            },
            "file_extension": ".py",
            "mimetype": "text/x-python",
            "name": "python",
            "nbconvert_exporter": "python",
            "pygments_lexer": "ipython3",
            "version": "3.7.5"
        },
        "orig_nbformat": 4
    },
    "nbformat": 4,
    "nbformat_minor": 2
}
